{
 "cells": [
  {
   "cell_type": "markdown",
   "id": "903fe896-7eed-477b-920a-343173c5ad4d",
   "metadata": {},
   "source": [
    "# Deploy Generative Virtual Screening NIM Blueprint on Amazon SageMaker\n",
    "\n",
    "---\n",
    "NVIDIA Inference Microservices (NIMs) have transformed the Biological Foundation Models (BioFMs) inference at scales, in particular, for drug discovery, using the robust, streamlined, and easy-to-deploy containers. The [BioNeMo NIMs](https://docs.nvidia.com/nim/#bionemo), including [MolMIM](https://docs.nvidia.com/nim/bionemo/molmim/latest/overview.html) for small molecular generation and [DiffDock](https://docs.nvidia.com/nim/bionemo/diffdock/latest/overview.html) for protein-ligand binding pose prediction, can be deployed on Amazon SageMaker to build generative virtual screening workflows. These workflows can be used by computational biologist, bioinformaticians, and data scientists to design, generate, and optimize novel drug candidates. The following example derived from [this NIM blueprint notebook](https://github.com/NVIDIA/BioNeMo/blob/main/examples/blueprints/generative-virtual-screening/generative-virtual-screening.ipynb) shows how to deploy BioNeMo NIMs using the [NVIDIA NIM public ECR gallery on AWS](https://gallery.ecr.aws/nvidia/nim)."
   ]
  },
  {
   "cell_type": "markdown",
   "id": "0c8cb307-8670-4414-a56d-e1d822714450",
   "metadata": {},
   "source": [
    "## Prerequisites\n",
    "---"
   ]
  },
  {
   "cell_type": "markdown",
   "id": "f9a7f815-4d07-4a11-bd73-faef779052a8",
   "metadata": {
    "tags": []
   },
   "source": [
    "<div class=\"alert alert-block alert-info\">\n",
    "<b>NOTE:</b>  To run NIM on SageMaker you will need to have your `NGC API KEY` to access NGC resources. This NGC API key is necessary because the NIM container in the public NIM ECR has dependencies that require access to artifacts in the NGC catalog. Check out <a href=\"https://build.nvidia.com/meta/llama3-70b?signin=true\"> this LINK</a> to learn how to get an NGC API KEY. \n",
    "</div>"
   ]
  },
  {
   "cell_type": "markdown",
   "id": "b15c5eb7-d722-4ce0-b0c5-f931609bbf27",
   "metadata": {},
   "source": [
    "##### 1. Setup and retrieve API key:\n",
    "\n",
    "1. First you will need to sign into [NGC](9https://ngc.nvidia.com/signin) with your NVIDIA account and password.\n",
    "2. Navigate to setup.\n",
    "3. Select “Get API Key”.\n",
    "4. Generate your API key.\n",
    "5. Keep your API key secret and in a safe place. Do not share it or store it in a place where others can see or copy it\n",
    "\n",
    "For more information on NIM, check out the [NIM LLM docs](https://docs.nvidia.com/nim/large-language-models/latest/introduction.html).\n",
    "\n",
    "##### 2. You must have the appropriate push permissions associated with your execution role\n",
    "- Copy and paste the following json inline policy to your `Amazon SageMaker Execution Role` :\n",
    "\n",
    "```\n",
    "{\n",
    "    \"Version\": \"2012-10-17\",\n",
    "    \"Statement\": [\n",
    "        {\n",
    "            \"Effect\": \"Allow\",\n",
    "            \"Action\": [\n",
    "                \"imagebuilder:GetComponent\",\n",
    "                \"imagebuilder:GetContainerRecipe\",\n",
    "                \"ecr:GetAuthorizationToken\",\n",
    "                \"ecr:BatchGetImage\",\n",
    "                \"ecr:InitiateLayerUpload\",\n",
    "                \"ecr:UploadLayerPart\",\n",
    "                \"ecr:CompleteLayerUpload\",\n",
    "                \"ecr:BatchCheckLayerAvailability\",\n",
    "                \"ecr:GetDownloadUrlForLayer\",\n",
    "                \"ecr:PutImage\"\n",
    "            ],\n",
    "            \"Resource\": \"*\"\n",
    "        },\n",
    "        {\n",
    "            \"Effect\": \"Allow\",\n",
    "            \"Action\": [\n",
    "                \"kms:Decrypt\"\n",
    "            ],\n",
    "            \"Resource\": \"*\",\n",
    "            \"Condition\": {\n",
    "                \"ForAnyValue:StringEquals\": {\n",
    "                    \"kms:EncryptionContextKeys\": \"aws:imagebuilder:arn\",\n",
    "                    \"aws:CalledVia\": [\n",
    "                        \"imagebuilder.amazonaws.com\"\n",
    "                    ]\n",
    "                }\n",
    "            }\n",
    "        },\n",
    "        {\n",
    "            \"Effect\": \"Allow\",\n",
    "            \"Action\": [\n",
    "                \"s3:GetObject\"\n",
    "            ],\n",
    "            \"Resource\": \"arn:aws:s3:::ec2imagebuilder*\"\n",
    "        },\n",
    "        {\n",
    "            \"Effect\": \"Allow\",\n",
    "            \"Action\": [\n",
    "                \"logs:CreateLogStream\",\n",
    "                \"logs:CreateLogGroup\",\n",
    "                \"logs:PutLogEvents\"\n",
    "            ],\n",
    "            \"Resource\": \"arn:aws:logs:*:*:log-group:/aws/imagebuilder/*\"\n",
    "        }\n",
    "    ]\n",
    "}\n",
    "```\n",
    "- Or add the `EC2InstanceProfileForImageBuilderECRContainerBuilds` permission policy to your `SageMaker Execution Role`\n",
    "\n",
    "##### 3. NIM public ECR image is currently available only in `us-east-1` region\n",
    "\n",
    "##### 4. This Jupyter Notebook can be run on a t3.medium instance (ml.t3.medium). However, you may need to request a quota increase. \n",
    "\n",
    "To request a quota increase, follow these steps:\n",
    "\n",
    "1. Navigate to the [Service Quotas console](https://console.aws.amazon.com/servicequotas/).\n",
    "2. Choose Amazon SageMaker.\n",
    "3. Review your default quota for the following resources:\n",
    "   - `g5.xlarge` for endpoint usage\n",
    "4. If needed, request a quota increase for these resources.\n",
    "\n"
   ]
  },
  {
   "cell_type": "markdown",
   "id": "3149a242-be6f-4a54-9f15-b7757d1ea9c9",
   "metadata": {},
   "source": [
    "<div class=\"alert alert-block alert-warning\"> \n",
    "\n",
    "<b>NOTE:</b> To make sure that you have enough quotas to support your usage requirements, it's a best practice to monitor and manage your service quotas. Requests for Amazon EC2 service quota increases are subject to review by AWS engineering teams. Also, service quota increase requests aren't immediately processed when you submit a request. After your request is processed, you receive an email notification.\n",
    "</div>"
   ]
  },
  {
   "cell_type": "markdown",
   "id": "be9d9a6a-b3f5-4fad-ade0-f594becada88",
   "metadata": {},
   "source": [
    "---\n",
    "\n",
    "## Setup\n",
    "\n",
    "Installs the dependencies and setup roles required to package the model and create SageMaker endpoint. "
   ]
  },
  {
   "cell_type": "code",
   "execution_count": null,
   "id": "86ad20a5-9473-4fdb-9dbf-8abdf57ad154",
   "metadata": {
    "tags": []
   },
   "outputs": [],
   "source": [
    "import boto3, json, sagemaker\n",
    "from sagemaker import get_execution_role\n",
    "from pathlib import Path\n",
    "\n",
    "sess = boto3.Session()\n",
    "sm_client = sess.client(\"sagemaker\")\n",
    "sagemaker_session = sagemaker.Session(boto_session=sess)\n",
    "bucket = sagemaker_session.default_bucket()\n",
    "runtime_sm_client = boto3.client(\"sagemaker-runtime\")\n",
    "region = sess.region_name\n",
    "sts_client = sess.client('sts')\n",
    "account_id = sts_client.get_caller_identity()['Account']"
   ]
  },
  {
   "cell_type": "markdown",
   "id": "ea29e7c1-856d-4898-9e30-e92b436929fd",
   "metadata": {},
   "source": [
    "## Create SageMaker Endpoint with MolMIM NIM Container\n",
    "\n",
    "MolMIM can be used to explore “drug-like” chemical space to generate novel small molecules, structurally similar to a given query in SMILES string, with the improved values of the desired properties. This transformer based model deployed on SageMaker can also be used to generate novel small molecules using [CMA-ES](https://en.wikipedia.org/wiki/CMA-ES)-guided sampling with desired properties or characteristics. \n"
   ]
  },
  {
   "cell_type": "markdown",
   "id": "7474d025-5e32-49cc-a791-015e04440714",
   "metadata": {},
   "source": [
    "### Set Variables\n",
    "\n",
    "In this example the MolMIM container will be deployed on `ml.g5.xlarge` instance"
   ]
  },
  {
   "cell_type": "code",
   "execution_count": null,
   "id": "5300a5e6-86b6-41c3-bb6c-f986425f883a",
   "metadata": {
    "tags": []
   },
   "outputs": [],
   "source": [
    "public_nim_image = \"public.ecr.aws/nvidia/nim:molmim-1.0.0\"\n",
    "nim_model = \"nim-molmim\"\n",
    "sm_model_name = \"nim-molmim\"\n",
    "instance_type = \"ml.g5.xlarge\"\n",
    "payload_model = \"nvidia/nim-molmim\"\n",
    "NGC_API_KEY = \"\""
   ]
  },
  {
   "cell_type": "code",
   "execution_count": null,
   "id": "4751782f-4ffa-4870-b44c-dad170fee5f4",
   "metadata": {
    "tags": []
   },
   "outputs": [],
   "source": [
    "# Use store magic to save the global variables for running base nim notebook.\n",
    "%store public_nim_image nim_model sm_model_name instance_type payload_model NGC_API_KEY"
   ]
  },
  {
   "cell_type": "code",
   "execution_count": null,
   "id": "13efd675-fb93-4363-9d43-6a5711018967",
   "metadata": {
    "tags": []
   },
   "outputs": [],
   "source": [
    "%run ../base_nim_NVIDIA.ipynb"
   ]
  },
  {
   "cell_type": "markdown",
   "id": "bc645a12-3719-4dea-9d9c-903e779d7799",
   "metadata": {},
   "source": [
    "Once we have the endpoint's status as `InService`, we can send a query small molecule in [SMILES](https://en.wikipedia.org/wiki/Simplified_Molecular_Input_Line_Entry_System) string to generate more drug like candidates, structurally similar to [Nirmatrelvir](https://pubchem.ncbi.nlm.nih.gov/compound/Nirmatrelvir).\n",
    "\n",
    "First we need to set up environment for visualization "
   ]
  },
  {
   "cell_type": "code",
   "execution_count": null,
   "id": "2fb10250-074e-4399-beb4-6c4b9225f6e1",
   "metadata": {
    "tags": []
   },
   "outputs": [],
   "source": [
    "# Please run the following 'pip install' command to install the required libraries\n",
    "!pip install jupyter ipywidgets loguru py3dmol rdkit pandas\n",
    "\n",
    "# Importing libraries for 3-D visualization\n",
    "import py3Dmol\n",
    "import ipywidgets as widgets\n",
    "from IPython.display import display\n",
    "\n",
    "# Importing libraries from RD-Kit for handling and manipulating chemical data\n",
    "from rdkit import Chem\n",
    "from rdkit.Chem import AllChem, Draw, QED\n",
    "from rdkit.Chem.Draw import IPythonConsole\n",
    "from rdkit.Chem import PandasTools\n",
    "from rdkit.Chem import rdFingerprintGenerator\n",
    "from rdkit.Chem.Fingerprints import FingerprintMols\n",
    "from rdkit import RDLogger\n",
    "RDLogger.DisableLog('rdApp.*')"
   ]
  },
  {
   "cell_type": "markdown",
   "id": "bd0e8d50-d0c9-4360-9a33-c3c212f83fe5",
   "metadata": {},
   "source": [
    "Now let us visualize Nirmatrelvir molecular structure"
   ]
  },
  {
   "cell_type": "code",
   "execution_count": null,
   "id": "f0019a66-4a70-475d-860c-60e291145a80",
   "metadata": {
    "tags": []
   },
   "outputs": [],
   "source": [
    "# Nirmatrelvir SMILES formula\n",
    "molecule = \"CC1(C2C1C(N(C2)C(=O)C(C(C)(C)C)NC(=O)C(F)(F)F)C(=O)NC(CC3CCNC3=O)C#N)C\"\n",
    "\n",
    "# Visualizing 2-D structures and QED Score for input compound\n",
    "input_mol = Chem.MolFromSmiles(molecule)\n",
    "input_qed = QED.qed(input_mol)\n",
    "Draw.MolToImage(input_mol, legend=str(\"Input_Nirmatrelvir \\n Score: \"+ \"%.3f\" % input_qed), subImgSize=(350,350))"
   ]
  },
  {
   "cell_type": "markdown",
   "id": "1cebe1b7-9b1d-4fac-99ef-f3aebcf8b77c",
   "metadata": {},
   "source": [
    "Next we can run model inference using MolMIM for compound generation"
   ]
  },
  {
   "cell_type": "code",
   "execution_count": null,
   "id": "b4dcdc4d-4925-4571-a6ad-5025f274652b",
   "metadata": {
    "tags": []
   },
   "outputs": [],
   "source": [
    "payload = {\n",
    "    'smi': molecule,\n",
    "    'num_molecules': 5,\n",
    "    'algorithm': 'CMA-ES',\n",
    "    'property_name': 'QED',\n",
    "    'min_similarity': 0.6, # Ignored if algorithm is not \"CMA-ES\".\n",
    "    'iterations': 10,\n",
    "}\n",
    "\n",
    "\n",
    "molmim_response = client.invoke_endpoint(\n",
    "    EndpointName=endpoint_name, ContentType=\"application/json\", Body=json.dumps(payload)\n",
    ")\n",
    "\n",
    "molmim_output = json.loads(molmim_response[\"Body\"].read().decode(\"utf8\"))\n",
    "print(json.dumps(molmim_output, indent=2))\n",
    "\n",
    "generated_ligands = '\\n'.join([v['smiles'] for v in molmim_output['generated']])"
   ]
  },
  {
   "cell_type": "markdown",
   "id": "796ce756-fcd7-4a67-8c9c-f46fe2273b63",
   "metadata": {},
   "source": [
    "Finally, visualize the generated small molecules."
   ]
  },
  {
   "cell_type": "code",
   "execution_count": null,
   "id": "284aa1ca-6a19-4cb9-8f8c-931641990fe3",
   "metadata": {
    "tags": []
   },
   "outputs": [],
   "source": [
    "# Visualizing 2-D structures of MolMIM-generated compounds\n",
    "mols_from_gen_smis = []\n",
    "gen_legends = []\n",
    "for index, i in enumerate(molmim_output['generated']):\n",
    "    # Convert SMILES to molecule and ensure uniqueness\n",
    "    mol = Chem.MolFromSmiles(i['smiles'])\n",
    "    if mol and mol not in mols_from_gen_smis:\n",
    "        mols_from_gen_smis.append(mol)\n",
    "        gen_legends.append(f\"Mol_{index + 1} \\n Score: {i['score']:.3f}\")\n",
    "\n",
    "# Output the number of unique molecules\n",
    "print(\"Total unique molecule designs obtained:\", len(mols_from_gen_smis))\n",
    "\n",
    "# Draw the molecules in a grid\n",
    "Draw.MolsToGridImage(mols_from_gen_smis, legends=gen_legends, molsPerRow=5, subImgSize=(350, 350))"
   ]
  },
  {
   "cell_type": "markdown",
   "id": "d55f11fa-bf8c-46d0-a728-03c0aaf39d23",
   "metadata": {},
   "source": [
    "## Create SageMaker Endpoint with DiffDock NIM Container\n",
    "\n",
    "To predict the bioactivities of the generated small molecules against certain target protein, we can use Diffdock, a state-of-the-art generative model that predicts the 3D structure of a protein-ligand complex, to find out the best (most probable) binding poses. A highlighted feature from DiffDock is that a presumed binding pocket, which usually can be characterized only from experimental 3D structures, is not needed (a.k.a., blind-docking). This feature is very useful for AI folded protein structures, as it is able to locate all regions on the protein surface to be bound by drug molecules, providing ingishts for further downstream investigations.\n",
    "\n",
    "The optimized DiffDock also provides the batch-docking function, by which we can concatenate multiple molecules into one request of docking, each of them will be also sampled for mulitple poses (i.e., num_poses=10 in this example). In the output, the predicted docking poses for each molecule is sorted by a confidence score that inferenced from a confidence model."
   ]
  },
  {
   "cell_type": "code",
   "execution_count": null,
   "id": "4b13ab1f-93a7-4226-942a-f11a852b16ea",
   "metadata": {
    "tags": []
   },
   "outputs": [],
   "source": [
    "public_nim_image = \"public.ecr.aws/nvidia/nim:diffdock-1.2.0\"\n",
    "nim_model = \"nim-diffdock\"\n",
    "sm_model_name = \"nim-diffdock\"\n",
    "instance_type = \"ml.g5.xlarge\"\n",
    "payload_model = \"nvidia/nim-diffdock\"\n",
    "NGC_API_KEY = \"\"\n",
    "\n",
    "# Use store magic to save the global variables for running base nim notebook.\n",
    "%store public_nim_image nim_model sm_model_name instance_type payload_model NGC_API_KEY"
   ]
  },
  {
   "cell_type": "code",
   "execution_count": null,
   "id": "45193b79-fa14-423f-ad5c-3081ab15b9a5",
   "metadata": {
    "tags": []
   },
   "outputs": [],
   "source": [
    "%run ../base_nim_NVIDIA.ipynb"
   ]
  },
  {
   "cell_type": "markdown",
   "id": "f9eb3980-30a0-4060-9c47-1e10f263b0a3",
   "metadata": {},
   "source": [
    "In this example, we will use an AlphaFold2 generated protein structure for SARS CoV-2 main protease sequence used in [this example](https://github.com/NVIDIA/BioNeMo/blob/main/examples/blueprints/generative-virtual-screening/generative-virtual-screening.ipynb)."
   ]
  },
  {
   "cell_type": "code",
   "execution_count": null,
   "id": "134dadda-75dd-4e94-ba30-914a204d9e5a",
   "metadata": {
    "tags": []
   },
   "outputs": [],
   "source": [
    "with open('protein.pdb', 'r') as f:\n",
    "    folded_protein=''.join(f.readlines())\n",
    "    \n",
    "payload = {\n",
    "    'protein': folded_protein,\n",
    "    'ligand': generated_ligands,\n",
    "    'ligand_file_type': 'txt',\n",
    "    'num_poses': 10,\n",
    "    'time_divisions': 20,\n",
    "    'num_steps': 18,\n",
    "}\n",
    "\n",
    "diffdock_response = client.invoke_endpoint(\n",
    "    EndpointName=endpoint_name, ContentType=\"application/json\", Body=json.dumps(payload)\n",
    ")\n",
    "\n",
    "diffdock_output = json.loads(diffdock_response[\"Body\"].read().decode(\"utf8\"))"
   ]
  },
  {
   "cell_type": "code",
   "execution_count": null,
   "id": "98cda540-bb64-4503-ba1e-38310cb74cf2",
   "metadata": {
    "tags": []
   },
   "outputs": [],
   "source": [
    "# Extracting the top1 poses docking coordinates and scores for each generated molecule\n",
    "best_scores, best_scoring_poses = [], []\n",
    "\n",
    "for i in range(len(diffdock_output['ligand_positions'])):\n",
    "    best_scoring_poses.append(diffdock_output['ligand_positions'][i][0])\n",
    "    best_scores.append(diffdock_output['position_confidence'][i][0])"
   ]
  },
  {
   "cell_type": "code",
   "execution_count": null,
   "id": "16a82687-79ce-497b-99c0-8aad03a37899",
   "metadata": {
    "tags": []
   },
   "outputs": [],
   "source": [
    "# defining a function for color definitions for visualization\n",
    "def ansi_color(text, color):\n",
    "    \"\"\"Color text for console output\"\"\"\n",
    "    colors = {\n",
    "        \"red\": \"\\033[31m\",\n",
    "        \"green\": \"\\033[32m\",\n",
    "        \"yellow\": \"\\033[33m\",\n",
    "        \"blue\": \"\\033[34m\",\n",
    "        \"magenta\": \"\\033[35m\",\n",
    "        \"cyan\": \"\\033[36m\",\n",
    "        \"white\": \"\\033[37m\",\n",
    "        \"reset\": \"\\033[0m\"\n",
    "    }\n",
    "    return f\"{colors[color]}{text}{colors['reset']}\"\n",
    "\n",
    "# Assuming `docking_poses` is a list of RDKit molecule objects, each representing a docking pose for a compound\n",
    "# Example: docking_poses = [mol1, mol2, mol3, mol4, mol5]\n",
    "\n",
    "# Function to update the viewer based on the selected compound index\n",
    "def update_viewer(compound_index):\n",
    "    view = py3Dmol.view(width=1200, height=900)\n",
    "\n",
    "\n",
    "    # Add the protein model\n",
    "    view.addModel(folded_protein, 'pdb')\n",
    "    view.setStyle({'model': 0}, {'cartoon': {'color': 'white', 'opacity': 0.7}})\n",
    "    view.setViewStyle({'style':'outline','color':'black','width':0.03})\n",
    "    Prot=view.getModel()\n",
    "    Prot.setStyle({'cartoon':{'arrows':True, 'tubes':True, 'style':'oval', 'color':'white'}})\n",
    "    view.setStyle({'cartoon': {'colorscheme': {'prop': 'b', 'gradient': 'roygb', 'min': 40, 'max': 100}}})\n",
    "    view.addSurface(py3Dmol.VDW,{'opacity':0.4,'color':'white'})\n",
    "    \n",
    "    # Add the selected docking pose\n",
    "    pose = best_scoring_poses[compound_index]\n",
    "    # pose_block = Chem.MolToMolBlock()\n",
    "    view.addModel(pose, 'mol')\n",
    "    view.addSurface(py3Dmol.VDW, {'opacity': 0.5, 'colorscheme': 'magentaCarbon'}, {'model': 1})\n",
    "    view.setStyle({'model': 1}, {'stick': {'radius': 0.3, 'colorscheme': 'magentaCarbon'}})\n",
    "    score = round(best_scores[compound_index], 3)\n",
    "    score_color = \"green\" if score > -0.5 else \"blue\" if score >= -1.5 else \"red\"\n",
    "    print(f\"Loaded {ansi_color(compound_index+1, 'magenta')} with XX_confidence score: {ansi_color(best_scores[compound_index], score_color)}\")\n",
    "\n",
    "    # Zoom to fit the structure\n",
    "    view.zoomTo()\n",
    "    \n",
    "    # Display the viewer\n",
    "    return view.show()\n",
    "\n",
    "# Create a slider widget to select compounds\n",
    "compound_slider = widgets.IntSlider(\n",
    "    value=0,\n",
    "    min=0,\n",
    "    max=len(best_scoring_poses) - 1,\n",
    "    step=1,\n",
    "    description='Compound:',\n",
    "    continuous_update=False,\n",
    "    orientation='horizontal',\n",
    "    readout=False,\n",
    "    readout_format='d'\n",
    ")\n",
    "\n",
    "# Link the slider to the viewer update function\n",
    "widgets.interact(update_viewer, compound_index=compound_slider)"
   ]
  },
  {
   "cell_type": "markdown",
   "id": "0b436b0b-a51f-4b3e-bf13-fd841ae2a072",
   "metadata": {},
   "source": [
    "In this workflow, we illustrate the ability of BioNeMo NIMs to work in concert to generate meaningful predictions in a small virtual screening workflow. We hope this underscores to the user how easy the tools are to query and assimilate, and how flexible a workflow of this sort can be."
   ]
  },
  {
   "cell_type": "markdown",
   "id": "14b1432d-57ac-4fe7-a11a-2b5fa731a81f",
   "metadata": {},
   "source": [
    "## Delete endpoint and clean up artifacts"
   ]
  },
  {
   "cell_type": "code",
   "execution_count": null,
   "id": "35c157b6-91c2-4964-9433-1504287240f0",
   "metadata": {
    "tags": []
   },
   "outputs": [],
   "source": [
    "sm.delete_model(ModelName=sm_model_name)\n",
    "sm.delete_endpoint_config(EndpointConfigName=endpoint_config_name)\n",
    "sm.delete_endpoint(EndpointName=endpoint_name)"
   ]
  },
  {
   "cell_type": "markdown",
   "id": "98a8dbdd-11e9-451c-b3f0-0433fa8f14a7",
   "metadata": {},
   "source": [
    "---\n",
    "## Distributors\n",
    "- Amazon Web Services\n",
    "- NVIDIA\n"
   ]
  },
  {
   "cell_type": "code",
   "execution_count": null,
   "id": "0ed0c683-cf25-49b5-a6d2-0384b104af43",
   "metadata": {},
   "outputs": [],
   "source": []
  }
 ],
 "metadata": {
  "kernelspec": {
   "display_name": "conda_python3",
   "language": "python",
   "name": "conda_python3"
  },
  "language_info": {
   "codemirror_mode": {
    "name": "ipython",
    "version": 3
   },
   "file_extension": ".py",
   "mimetype": "text/x-python",
   "name": "python",
   "nbconvert_exporter": "python",
   "pygments_lexer": "ipython3",
   "version": "3.10.14"
  }
 },
 "nbformat": 4,
 "nbformat_minor": 5
}
